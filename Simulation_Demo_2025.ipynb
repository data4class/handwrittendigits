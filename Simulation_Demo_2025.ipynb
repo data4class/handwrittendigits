{
  "cells": [
    {
      "cell_type": "markdown",
      "metadata": {
        "id": "view-in-github",
        "colab_type": "text"
      },
      "source": [
        "<a href=\"https://colab.research.google.com/github/data4class/handwrittendigits/blob/main/Simulation_Demo_2025.ipynb\" target=\"_parent\"><img src=\"https://colab.research.google.com/assets/colab-badge.svg\" alt=\"Open In Colab\"/></a>"
      ]
    },
    {
      "cell_type": "markdown",
      "metadata": {
        "id": "sWSFYF2xBqcH"
      },
      "source": [
        "## Generating Random numbers via computers"
      ]
    },
    {
      "cell_type": "markdown",
      "metadata": {
        "id": "W3Yt9TWmCKml"
      },
      "source": [
        "#Von numen method:\n",
        "$m_1 = ((a*m_0 + c) \\mod M)$ \\\\\n",
        "$m_2 = ((a*m_1 + c) \\mod M)$ \\\\\n",
        ". \\\\\n",
        ". \\\\\n",
        "return $(\\frac{m_i}{M})$\n",
        "\n",
        "\n"
      ]
    },
    {
      "cell_type": "code",
      "execution_count": null,
      "metadata": {
        "id": "39YZP7FHC4na"
      },
      "outputs": [],
      "source": [
        "def uniform_generator(n = 1, M = 2**32, a = 69069, c = 1):\n",
        "  import time\n",
        "  m0 = round(10000000*time.time())%(2**32)\n",
        "  if(n == 1):\n",
        "    return(((a*m0 + c)%M)/M)\n",
        "  lst = [0 for i in range(n)]\n",
        "  for i in range(n):\n",
        "    m0 = (a*m0 + c)%M\n",
        "    lst[i] = m0\n",
        "  return([m0/M for m0 in lst])"
      ]
    },
    {
      "cell_type": "code",
      "execution_count": null,
      "metadata": {
        "id": "SPXKsQGLDBgy"
      },
      "outputs": [],
      "source": [
        "print(uniform_generator(5))\n",
        "print(uniform_generator(10))\n",
        "print(uniform_generator(11))\n",
        "print(uniform_generator(2))\n",
        "\n",
        "# Other values of a, c and M which generate psuedo random numbers\n",
        "# M = 2**35, a = 129, c = 1\n",
        "# M = 2**32, a = 1812433253, c = 1\n",
        "\n",
        "## Rules for a and c:\n",
        "#(1) 1 = a mod g for all the divisors g of M\n",
        "#(2) c and a are relatively primes\n",
        "\n",
        "# Statistical tests:\n",
        "# Histogram\n",
        "import matplotlib.pyplot as plt\n",
        "n = 1000000\n",
        "numbers = uniform_generator(n)\n",
        "plt.hist(numbers)\n",
        "plt.show()\n",
        "# Mean\n",
        "m = sum(numbers)/n\n",
        "print('Actual Mean:', m, 'Theoretical Mean:', 1/2)\n",
        "# Variance\n",
        "sigma = sum([(x - m)**2 for x in numbers])/n\n",
        "print('Actual variance:', sigma, 'Theoretical variance:', 1/12)"
      ]
    },
    {
      "cell_type": "code",
      "execution_count": null,
      "metadata": {
        "id": "z4hEP-QVDYwS"
      },
      "outputs": [],
      "source": [
        "# Fails: M = 2**8, a = 25, c = 1\n",
        "n = 250\n",
        "numbers = uniform_generator(n, M = 2**8, a = 25, c = 1)\n",
        "pairs_x = numbers[0:(n-1)]\n",
        "pairs_y = numbers[1:n]\n",
        "plt.scatter(pairs_x, pairs_y)"
      ]
    },
    {
      "cell_type": "code",
      "execution_count": null,
      "metadata": {
        "id": "g-ne7CUuDhJk"
      },
      "outputs": [],
      "source": [
        "# Random Numbers from other distribution\n",
        "def normal_generator(n = 1, M = 2**32, a = 69069, c = 1):\n",
        "  import time\n",
        "  m0 = round(10000000*time.time())%(2**32)\n",
        "  lst = [-6 for i in range(n)]\n",
        "  for i in range(n*12):\n",
        "    m0 = (a*m0 + c)%M\n",
        "    lst[i%n] += m0/M\n",
        "  return(lst if n>1 else lst[0])"
      ]
    },
    {
      "cell_type": "code",
      "execution_count": null,
      "metadata": {
        "id": "39XhTI-qDsBX"
      },
      "outputs": [],
      "source": [
        "n = 1000000\n",
        "numbers = normal_generator(n)\n",
        "plt.hist(numbers, bins = 100)\n",
        "plt.show()\n",
        "# Mean\n",
        "m = sum(numbers)/n\n",
        "print('Actual Mean:', m, 'Theoretical Mean:', 0)\n",
        "# Variance\n",
        "sigma = sum([(x - m)**2 for x in numbers])/n\n",
        "print('Actual variance:', sigma, 'Theoretical variance:', 1)\n"
      ]
    },
    {
      "cell_type": "markdown",
      "metadata": {
        "id": "HM_6OIYzB1OP"
      },
      "source": [
        "## Simulating functions of random numbers"
      ]
    },
    {
      "cell_type": "markdown",
      "metadata": {
        "id": "MAdxcfhUHRRd"
      },
      "source": [
        "$f(x) = x^2 + 1$ \\\\\n",
        "$x \\sim N(1, \\sqrt{2})$ \\\\\n",
        "\n",
        "$\\mathbb{E}[f(x)]$? \\\\\n",
        "Ans: \\\\\n",
        "$\\mathbb{E}[f(x)] = \\mathbb{E}[x^2 + 1] = (\\mathbb{Var}[x] + \\mathbb{E}[x]^2) + 1  = 1 + 2 + 1  = 4$"
      ]
    },
    {
      "cell_type": "code",
      "execution_count": null,
      "metadata": {
        "id": "MB8ULttaFS6S"
      },
      "outputs": [],
      "source": [
        "import random\n",
        "import math\n",
        "import numpy as np\n",
        "N = 100000\n",
        "lst = []\n",
        "for i in range(N):\n",
        "  x = random.gauss(mu = 1,sigma = math.sqrt(2))\n",
        "  y = x**2+1\n",
        "  lst.append(y)\n",
        "print(sum(lst)/N)\n",
        "\n",
        "# using numpy\n",
        "X = np.random.normal(loc = 1, scale = np.sqrt(2), size = N)\n",
        "Y = X*X + 1\n",
        "print(Y.mean())"
      ]
    },
    {
      "cell_type": "markdown",
      "metadata": {
        "id": "UWsY4iTNJBIV"
      },
      "source": [
        "$f(x) = \\log(x^2 + 1)$ \\\\\n",
        "$x \\sim N(0, 1)$ \\\\\n",
        "\n",
        "$\\mathbb{E}[f(x)]$?"
      ]
    },
    {
      "cell_type": "code",
      "execution_count": null,
      "metadata": {
        "id": "JL-rXD2pHCnW"
      },
      "outputs": [],
      "source": [
        "N = 100000\n",
        "ell = []\n",
        "for i in range(N):\n",
        "  x = random.gauss(0,1)\n",
        "  y = math.log(x**2+1)\n",
        "  ell.append(y)\n",
        "print(sum(ell)/N)"
      ]
    },
    {
      "cell_type": "markdown",
      "metadata": {
        "id": "jLHVWWCFJ7rW"
      },
      "source": [
        "$I = \\int_3^6 x^2 dx$"
      ]
    },
    {
      "cell_type": "code",
      "execution_count": null,
      "metadata": {
        "id": "Lop6QR1kJgFE"
      },
      "outputs": [],
      "source": [
        "# Integration using simulation\n",
        "#Integrate X^2 from 3 to 6\n",
        "N = 100000\n",
        "ell = []\n",
        "a = 3\n",
        "b = 6\n",
        "f = lambda x: x**2\n",
        "for i in range(N):\n",
        "  x = random.uniform(a,b)\n",
        "  ell.append(f(x))\n",
        "EfX = sum(ell)/N\n",
        "I = (b-a)*EfX\n",
        "print(I)"
      ]
    },
    {
      "cell_type": "markdown",
      "metadata": {
        "id": "oTB_IvSH3G5L"
      },
      "source": [
        "# Simulating value of pi"
      ]
    },
    {
      "cell_type": "markdown",
      "metadata": {
        "id": "79YZ5QLd28ra"
      },
      "source": [
        "![simulation.png](data:image/png;base64,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)"
      ]
    },
    {
      "cell_type": "code",
      "execution_count": null,
      "metadata": {
        "id": "HPX-LcrlxLM_"
      },
      "outputs": [],
      "source": [
        "# Simulating value of pi\n",
        "import random\n",
        "import math\n",
        "import matplotlib.pyplot as plt\n",
        "import numpy as np\n",
        "\n",
        "N = 100000\n",
        "Nc = 0\n",
        "inside_x, inside_y = [], []\n",
        "outside_x, outside_y = [], []\n",
        "\n",
        "for _ in range(N):\n",
        "    x = random.uniform(0, 2)\n",
        "    y = random.uniform(0, 2)\n",
        "    if(math.sqrt((x - 1)**2 + (y - 1)**2) <= 1):\n",
        "        Nc += 1\n",
        "        if len(inside_x) < 1000:  # Sample for plotting\n",
        "            inside_x.append(x)\n",
        "            inside_y.append(y)\n",
        "    else:\n",
        "        if len(outside_x) < 1000:  # Sample for plotting\n",
        "            outside_x.append(x)\n",
        "            outside_y.append(y)\n",
        "\n",
        "print(4*Nc/N, math.pi)\n"
      ]
    },
    {
      "cell_type": "code",
      "execution_count": null,
      "metadata": {
        "id": "NypTD6KS20Zi"
      },
      "outputs": [],
      "source": [
        "# Generate above the picture\n",
        "plt.figure(figsize=(8, 8))\n",
        "plt.scatter(inside_x, inside_y, c='red', s=1, alpha=0.6)\n",
        "plt.scatter(outside_x, outside_y, c='blue', s=1, alpha=0.6)\n",
        "\n",
        "# Draw circle\n",
        "theta = np.linspace(0, 2*np.pi, 1000)\n",
        "circle_x = 1 + np.cos(theta)\n",
        "circle_y = 1 + np.sin(theta)\n",
        "plt.plot(circle_x, circle_y, 'black', linewidth=2)\n",
        "\n",
        "# Draw square\n",
        "plt.plot([0, 2, 2, 0, 0], [0, 0, 2, 2, 0], 'green', linewidth=2)\n",
        "\n",
        "plt.xlim(0, 2)\n",
        "plt.ylim(0, 2)\n",
        "plt.axis('equal')\n",
        "plt.show()"
      ]
    },
    {
      "cell_type": "markdown",
      "metadata": {
        "id": "OQkb-czk3mkl"
      },
      "source": [
        "# Distribution of returns of a stock price"
      ]
    },
    {
      "cell_type": "code",
      "execution_count": null,
      "metadata": {
        "id": "Qv2NMzaZA1Jf"
      },
      "outputs": [],
      "source": [
        "import yfinance as yf\n",
        "import pandas as pd\n",
        "import numpy as np\n",
        "\n",
        "# Define stock symbols (adding .NS suffix for NSE stocks)\n",
        "stocks = ['RELIANCE.NS', 'INFY.NS', 'ADANIPORTS.NS', 'POWERGRID.NS', 'SBIN.NS']\n",
        "\n",
        "import yfinance as yf\n",
        "import pandas as pd\n",
        "import numpy as np\n",
        "import time\n",
        "\n",
        "# Define stock symbols\n",
        "stocks = ['RELIANCE.NS', 'INFY.NS', 'ADANIPORTS.NS', 'POWERGRID.NS', 'SBIN.NS']\n",
        "\n",
        "# Download data for each stock individually\n",
        "all_prices = []\n",
        "all_returns = []\n",
        "\n",
        "for stock in stocks:\n",
        "        ticker = yf.Ticker(stock)\n",
        "        hist = ticker.history(period='5y')\n",
        "\n",
        "        # Extract close prices\n",
        "        prices = hist['Close'].dropna()\n",
        "\n",
        "        # Calculate daily returns\n",
        "        returns = prices.pct_change().dropna()\n",
        "\n",
        "        all_prices.append(prices.tolist())\n",
        "        all_returns.append(returns.tolist())\n",
        "\n",
        "        print(f\"Downloaded {stock}: {len(prices)} days, {len(returns)} returns\")\n",
        "\n",
        "        # Small delay to be respectful to the API\n",
        "        time.sleep(0.1)\n",
        "\n",
        "# Create DataFrame for analysis\n",
        "returns_df = pd.DataFrame()\n",
        "prices_df = pd.DataFrame()\n",
        "for i, stock in enumerate(stocks):\n",
        "    if i < len(all_returns):\n",
        "        # Align all return and price series by date??\n",
        "        # Note that this is just a index based alignment not date. Exercise: do this date wise\n",
        "        returns_df[stock] = pd.Series(all_returns[i])\n",
        "        prices_df[stock] = pd.Series(all_prices[i])\n",
        "\n",
        "print(f\"\\nFinal returns DataFrame shape: {returns_df.shape}\")\n",
        "print(\"\\nFirst few daily returns:\")\n"
      ]
    },
    {
      "cell_type": "code",
      "execution_count": null,
      "metadata": {
        "id": "5vbr_cqivGRR"
      },
      "outputs": [],
      "source": [
        "print(returns_df)\n",
        "print(prices_df)"
      ]
    },
    {
      "cell_type": "code",
      "execution_count": null,
      "metadata": {
        "id": "GnPijAwd2trO"
      },
      "outputs": [],
      "source": [
        "from matplotlib import pyplot as plt\n",
        "plt.hist(returns_df[stocks[3]], bins=100)\n",
        "plt.show()"
      ]
    },
    {
      "cell_type": "markdown",
      "metadata": {
        "id": "VbP-to5P8Yzd"
      },
      "source": [
        "## Simulating prices using lognormal distribution"
      ]
    },
    {
      "cell_type": "markdown",
      "metadata": {
        "id": "S8SIvGS8AM57"
      },
      "source": [
        "$\\log(S_t/S_0) = {((r - \\frac{1}{2}\\Delta^2)t + \\Delta \\sqrt{t} z)}$ \\\\\n",
        "\n",
        "$S_t = S_0e^{((r - \\frac{1}{2}\\Delta^2)t + \\Delta \\sqrt{t} z)}$ \\\\\n",
        "$z \\sim N(0,1)$\n"
      ]
    },
    {
      "cell_type": "code",
      "execution_count": null,
      "metadata": {
        "id": "lXMQELkWAWtY"
      },
      "outputs": [],
      "source": [
        "import numpy as np\n",
        "import random\n",
        "import math\n",
        "from matplotlib import pyplot as plt\n",
        "\n",
        "stocks = ['RELIANCE.NS', 'INFY.NS', 'ADANIPORTS.NS', 'POWERGRID.NS', 'SBIN.NS']\n",
        "symbol = stocks[2]\n",
        "d = returns_df.shape[0] # Number of days\n",
        "S0 = prices_df[symbol][d-1]\n",
        "t = 1/52 # 1 week\n",
        "r = sum(returns_df[symbol])/5\n",
        "delta = np.sqrt(np.var(returns_df[symbol])/5)\n",
        "def S(S0, r, delta, t, z):\n",
        "  return(S0*math.exp((r - (delta**2)/2)*t + delta*z*math.sqrt(t)))\n",
        "N = 10000\n",
        "St = [0 for _ in range(N)]\n",
        "for i in range(N):\n",
        "  z = random.gauss(0,1)\n",
        "  St[i] = S(S0, r, delta, t, z)\n",
        "print(St)\n",
        "print(np.mean(St), S0)\n"
      ]
    },
    {
      "cell_type": "code",
      "execution_count": null,
      "metadata": {
        "id": "TrxHtk5sSIBM"
      },
      "outputs": [],
      "source": [
        "# To simulate five paths for reliance for 10 weeks from now.\n",
        "s = 3\n",
        "d = prices_df.shape[0]\n",
        "S0 = prices_df[stocks[s]][d-1]\n",
        "mu = sum(returns_df[stocks[s]])/5\n",
        "delta = np.sqrt(np.var(returns_df[symbol])/5)\n",
        "\n",
        "N = 5\n",
        "weeks = 10\n",
        "St = [[0 for _ in range(weeks)] for _ in range(N)]\n",
        "for i in range(N):\n",
        "  for t in range(weeks):\n",
        "    z = random.gauss(0,1)\n",
        "    St[i][t] = round(S(S0, mu, delta, (t+1)/52, z), 2)\n",
        "print(St)\n",
        "for i in range(N):\n",
        "  plt.plot(St[i])\n",
        "\n",
        "plt.show()\n",
        "\n",
        "# Exercise: Test the model for high-frequency trade data\n"
      ]
    },
    {
      "cell_type": "code",
      "execution_count": null,
      "metadata": {
        "id": "H6lkoNInK9W7"
      },
      "outputs": [],
      "source": [
        "# Compute probability that stock give less than five percent return in one week\n",
        "\n",
        "stocks = ['RELIANCE.NS', 'INFY.NS', 'ADANIPORTS.NS', 'POWERGRID.NS', 'SBIN.NS']\n",
        "symbol = stocks[2]\n",
        "d = returns_df.shape[0] # Number of days\n",
        "S0 = prices_df[symbol][d-1]\n",
        "t = 1/52 # 1 week\n",
        "r = sum(returns_df[symbol])/5\n",
        "delta = np.sqrt(np.var(returns_df[symbol])/5)\n",
        "def S(S0, mu, delta, t, z):\n",
        "  return(S0*math.exp((mu - (delta**2)/2)*t + delta*z*math.sqrt(t)))\n",
        "N = 100000\n",
        "St = [0 for _ in range(N)]\n",
        "Nc = 0\n",
        "alpha = -0.005\n",
        "for i in range(N):\n",
        "  z = random.gauss(0,1)\n",
        "  St[i] = S(S0, mu, delta, t, z)\n",
        "  if(St[i]/S0 < 1 - alpha):\n",
        "    Nc += 1\n",
        "print(Nc/N)\n"
      ]
    },
    {
      "cell_type": "markdown",
      "metadata": {
        "id": "RwwxHCiC9HPk"
      },
      "source": [
        "# Generalization"
      ]
    },
    {
      "cell_type": "markdown",
      "metadata": {
        "id": "kFVuzoTU9Ec2"
      },
      "source": [
        "$S_t = S_0e^{((\\mu - \\sigma^2/2)t + \\sqrt{t}Vz)}$ \\\\\n",
        "where $V^TV = \\Sigma$ and $\\Sigma$ is a variance-covariance matrix."
      ]
    },
    {
      "cell_type": "code",
      "execution_count": null,
      "metadata": {
        "id": "3LKw-mKwqQWM"
      },
      "outputs": [],
      "source": [
        "#More than one securites correlated securities.\n",
        "S0 = [prices_df[symbol][d-1] for symbol in stocks]\n",
        "C = returns_df.cov()\n",
        "mu_bar = [sum(returns_df[symbol])/5 for symbol in stocks]\n",
        "delta_square = np.diag(C).reshape(-1, 1) # Read variances from diagonal and create a column vector\n",
        "V = np.linalg.cholesky(C) # Compute cholesky decomposition, i.e., C = V^T*V\n",
        "N = 100000\n",
        "t = 1/12\n",
        "n = 5\n",
        "z = np.random.normal(size=(n,N))\n",
        "S0 = np.array(S0).reshape(-1, 1)  # Convert matrix to 1D array\n",
        "mu_bar = np.array(mu_bar).reshape(-1, 1)  # Convert generator to array\n",
        "\n",
        "St = np.multiply(S0, np.exp((mu_bar - delta_square/2)*t + np.matmul(V,z)*np.sqrt(t)))\n",
        "print(np.mean(St, axis = 1))\n",
        "\n"
      ]
    },
    {
      "cell_type": "code",
      "source": [
        "# For a given portfolio of n securities (w), what is the value at risk at 1%, 5%\n",
        "stock_returns = St/S0 - 1\n",
        "\n",
        "# Calculate VaR for each stock separately\n",
        "for i, stock in enumerate(stocks):\n",
        "    VaR_95 = np.percentile(stock_returns[i], 5)\n",
        "    VaR_99 = np.percentile(stock_returns[i], 1)\n",
        "    print(f\"{stock} - VaR (95%): {VaR_95:.6f}, VaR (99%): {VaR_99:.6f}\")\n",
        "\n",
        "# Exercise : Compute Var for portfolio with equal weights. Then implement for any weights."
      ],
      "metadata": {
        "id": "oL7cGmaD-mSu"
      },
      "execution_count": null,
      "outputs": []
    },
    {
      "cell_type": "code",
      "execution_count": null,
      "metadata": {
        "id": "6CZaCepE8GvW"
      },
      "outputs": [],
      "source": [
        "# Derrivative pricing and Greeks values using MCS\n",
        "# 1. Option price:\n",
        "\n",
        "stocks = ['RELIANCE.NS', 'INFY.NS', 'ADANIPORTS.NS', 'POWERGRID.NS', 'SBIN.NS']\n",
        "symbol = stocks[2]\n",
        "d = returns_df.shape[0] # Number of days\n",
        "S0 = prices_df[symbol][d-1]\n",
        "mu = sum(returns_df[symbol])/5\n",
        "delta = np.sqrt(np.var(returns_df[symbol])/5)\n",
        "\n",
        "t = 1/52 # 1 week\n",
        "N = 1000\n",
        "St = [0 for _ in range(N)]\n",
        "for i in range(N):\n",
        "  z = random.gauss(0,1)\n",
        "  St[i] = S(S0, mu, delta, t, z)\n",
        "\n",
        "K = 1430\n",
        "print(S0)\n",
        "P = [max(s-K,0) for s in St]\n",
        "print(sum(P)/N) # payoff\n",
        "\n"
      ]
    },
    {
      "cell_type": "code",
      "execution_count": null,
      "metadata": {
        "id": "o4DDMue9Z4zt"
      },
      "outputs": [],
      "source": [
        "# Greeks\n",
        "#2. Delta\n",
        "ds  = 0.05\n",
        "\n",
        "K = 1430\n",
        "D = [(max(s+ds-K,0) - max(s-K,0))/ds for s in St]\n",
        "print(sum(D)/N)\n",
        "\n",
        "## Exercise: Implement all other Greeks like vega, theta, gamma etc."
      ]
    }
  ],
  "metadata": {
    "colab": {
      "provenance": [],
      "authorship_tag": "ABX9TyP0Fi4MWZLf2XbI4kKQDkk+",
      "include_colab_link": true
    },
    "kernelspec": {
      "display_name": "Python 3",
      "name": "python3"
    },
    "language_info": {
      "name": "python"
    }
  },
  "nbformat": 4,
  "nbformat_minor": 0
}