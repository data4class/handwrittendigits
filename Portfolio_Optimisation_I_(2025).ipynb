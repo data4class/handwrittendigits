{
  "nbformat": 4,
  "nbformat_minor": 0,
  "metadata": {
    "colab": {
      "provenance": [],
      "authorship_tag": "ABX9TyNrnq4MBlKb2TKJLt4RI31E",
      "include_colab_link": true
    },
    "kernelspec": {
      "name": "python3",
      "display_name": "Python 3"
    },
    "language_info": {
      "name": "python"
    }
  },
  "cells": [
    {
      "cell_type": "markdown",
      "metadata": {
        "id": "view-in-github",
        "colab_type": "text"
      },
      "source": [
        "<a href=\"https://colab.research.google.com/github/data4class/handwrittendigits/blob/main/Portfolio_Optimisation_I_(2025).ipynb\" target=\"_parent\"><img src=\"https://colab.research.google.com/assets/colab-badge.svg\" alt=\"Open In Colab\"/></a>"
      ]
    },
    {
      "cell_type": "code",
      "source": [
        "import yfinance as yf\n",
        "import pandas as pd\n",
        "import numpy as np\n",
        "import time\n",
        "\n",
        "# Define stock symbols\n",
        "stocks = ['RELIANCE.NS', 'INFY.NS', 'ADANIPORTS.NS', 'POWERGRID.NS', 'SBIN.NS']\n",
        "\n",
        "# Download data for each stock individually\n",
        "all_prices = []\n",
        "all_returns = []\n",
        "\n",
        "for stock in stocks:\n",
        "        ticker = yf.Ticker(stock)\n",
        "        hist = ticker.history(period='5y')\n",
        "\n",
        "        # Extract close prices\n",
        "        prices = hist['Close'].dropna()\n",
        "\n",
        "        # Calculate daily returns\n",
        "        returns = prices.pct_change().dropna()\n",
        "\n",
        "        all_prices.append(prices.tolist())\n",
        "        all_returns.append(returns.tolist())\n",
        "\n",
        "        print(f\"Downloaded {stock}: {len(prices)} days, {len(returns)} returns\")\n",
        "\n",
        "        # Small delay to be respectful to the API\n",
        "        time.sleep(0.1)\n",
        "\n",
        "# Create DataFrame for easier analysis\n",
        "returns_df = pd.DataFrame()\n",
        "prices_df = pd.DataFrame()\n",
        "for i, stock in enumerate(stocks):\n",
        "    if i < len(all_returns):\n",
        "        # Align all return and price series by date\n",
        "        returns_df[stock] = pd.Series(all_returns[i])\n",
        "        prices_df[stock] = pd.Series(all_prices[i])\n"
      ],
      "metadata": {
        "id": "fPoCAjt4Oi0N"
      },
      "execution_count": null,
      "outputs": []
    },
    {
      "cell_type": "code",
      "source": [
        "w1 = [1/5, 1/5, 1/5, 1/5, 1/5]\n",
        "w2 = [.25, .25, .10, .20, .20]"
      ],
      "metadata": {
        "id": "0qi9SvpLPxDj"
      },
      "execution_count": null,
      "outputs": []
    },
    {
      "cell_type": "code",
      "source": [
        "def covariance(X, Y):\n",
        "    # return covariance between X and Y\n",
        "    if(len(X) != len(Y)):\n",
        "        return(\"Not compatible\")\n",
        "    n = len(X)\n",
        "    mx = sum(X)/n\n",
        "    my = sum(Y)/n\n",
        "    s = 0\n",
        "    for (x, y) in zip(X, Y):\n",
        "        s += (x - mx)*(y - my)\n",
        "    return(s/n)\n",
        "\n",
        "def covariance_matrix(D):\n",
        "    n = len(D)\n",
        "    k = list(D.keys())\n",
        "    C = [[] for i in range(n)]\n",
        "    for i in range(n):\n",
        "        for j in range(n):\n",
        "            # Compute covariance between D[k[i]] and D[k[j]]\n",
        "            C[i].append(covariance(D[k[i]], D[k[j]]))\n",
        "    return(C)\n"
      ],
      "metadata": {
        "id": "1WfzSnd-R9lj"
      },
      "execution_count": null,
      "outputs": []
    },
    {
      "cell_type": "code",
      "source": [
        "import numpy as np\n",
        "\n",
        "def pRisk(w, C):\n",
        "    return(np.sqrt(w.T*C*w).item())\n",
        "\n",
        "def pReturn(w, r):\n",
        "    return(w.T*r)\n",
        "\n",
        "def dpr(w, R):\n",
        "    return(w.T*R)\n",
        "\n",
        "##Sharpe Ratio\n",
        "\n",
        "def sharpe(rt, rsk, rf = 0.06):\n",
        "    return((rt - rf)/rsk)\n"
      ],
      "metadata": {
        "id": "rGOAUChDSEyp"
      },
      "execution_count": null,
      "outputs": []
    },
    {
      "cell_type": "code",
      "source": [
        "C = returns_df.cov()\n",
        "daily_return = returns_df.sum()/5\n",
        "C = np.matrix(C)\n",
        "w1 = np.matrix(w1).reshape(-1, 1)\n",
        "w2 = np.matrix(w2).reshape(-1, 1)\n",
        "R = np.matrix(list(daily_return)).reshape(-1, 1)\n",
        "\n",
        "risk = pRisk(w1, C)\n",
        "print(risk)\n",
        "risk2 = pRisk(w2, C)\n",
        "print(risk2)\n"
      ],
      "metadata": {
        "id": "cLf166oLSgj0"
      },
      "execution_count": null,
      "outputs": []
    },
    {
      "cell_type": "code",
      "source": [
        "annual_return = [sum(returns_df[symbol])/5 for symbol in stocks]\n",
        "\n",
        "\n",
        "## Compare Sharpe ratio\n",
        "rsk1 = pRisk(w1, C)\n",
        "rt1  = (annual_return*w1).item()\n",
        "\n",
        "rsk2 = pRisk(w2, C)\n",
        "rt2  = (annual_return*w2).item()\n",
        "\n",
        "s1 = sharpe(rt1, rsk1)\n",
        "s2 = sharpe(rt2, rsk2)\n"
      ],
      "metadata": {
        "id": "1jc-pXzZTBeh"
      },
      "execution_count": null,
      "outputs": []
    },
    {
      "cell_type": "code",
      "source": [
        "print(s1, s2)\n",
        "print(rsk1, rsk2)\n",
        "print(rt1, rt2)"
      ],
      "metadata": {
        "id": "tyRK1oEouFN0"
      },
      "execution_count": null,
      "outputs": []
    },
    {
      "cell_type": "code",
      "source": [
        "import random\n",
        "def generate_random_weights(n, N = 10000):\n",
        "    Wgt =[]#  [n*[0] for i in range(N)]\n",
        "    w = n*[3]\n",
        "    for i in range(N):\n",
        "        while(not all([x >-3 and x<3 for x in w])):\n",
        "            w = [random.uniform(-1, 1) for _ in  range(n)]\n",
        "            w = [wi/sum(w) for wi in w]\n",
        "        Wgt.append(w)\n",
        "        w = n*[3]\n",
        "    return(Wgt)\n",
        "\n",
        "n = len(stocks)\n",
        "Wg = np.matrix(generate_random_weights(n, N=25000))\n",
        "\n",
        "rsk = [pRisk(w.T, C) for w in Wg]\n",
        "rt  = [(annual_return*w.T).item() for w in Wg]\n"
      ],
      "metadata": {
        "id": "vVKuxI0STTtk"
      },
      "execution_count": null,
      "outputs": []
    },
    {
      "cell_type": "code",
      "source": [
        "import matplotlib.pyplot as plt\n",
        "plt.scatter(rsk,rt,color = 'orange', marker = 'o', linewidth = .3)\n",
        "\n",
        "###Minimum Risk and maximum Sharpe ratio point\n",
        "min_risk_idx = np.argmin(rsk)\n",
        "\n",
        "x_min = rsk[min_risk_idx]\n",
        "y_min = rt[min_risk_idx]\n",
        "\n",
        "max_sr_idx = np.argmax([sharpe(rt1,rsk1) for (rt1,rsk1) in zip(rt,rsk)])\n",
        "\n",
        "x_msr = rsk[max_sr_idx]\n",
        "y_msr = rt[max_sr_idx]\n",
        "\n",
        "plt.scatter(x_min,y_min,color='blue', marker = '*', linewidth = 2)\n",
        "plt.scatter(x_msr,y_msr,color='green', marker = 's', linewidth = 2)\n",
        "\n",
        "\n",
        "###Individual securities portfolio\n",
        "rsk_individual = np.sqrt(C.diagonal())\n",
        "rt_individual = annual_return\n",
        "plt.scatter(list(rsk_individual), list(rt_individual), color='black', marker = 'x', linewidth = 1)\n",
        "plt.show()"
      ],
      "metadata": {
        "id": "ow8az2Q3Tb5t"
      },
      "execution_count": null,
      "outputs": []
    }
  ]
}