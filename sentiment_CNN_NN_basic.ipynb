{
  "nbformat": 4,
  "nbformat_minor": 0,
  "metadata": {
    "colab": {
      "provenance": [],
      "authorship_tag": "ABX9TyNtLL0Sqtz8eLnHR8ME/VZH",
      "include_colab_link": true
    },
    "kernelspec": {
      "name": "python3",
      "display_name": "Python 3"
    },
    "language_info": {
      "name": "python"
    }
  },
  "cells": [
    {
      "cell_type": "markdown",
      "metadata": {
        "id": "view-in-github",
        "colab_type": "text"
      },
      "source": [
        "<a href=\"https://colab.research.google.com/github/data4class/handwrittendigits/blob/main/sentiment_CNN_NN_basic.ipynb\" target=\"_parent\"><img src=\"https://colab.research.google.com/assets/colab-badge.svg\" alt=\"Open In Colab\"/></a>"
      ]
    },
    {
      "cell_type": "code",
      "source": [
        "import pandas as pd\n",
        "from io import StringIO\n",
        "\n",
        "csv_inline = \"\"\"Sentiment,Headline\n",
        "positive,Titan posts record profit\n",
        "neutral,Markets end flat\n",
        "negative,XYZ Corp misses guidance\n",
        "\"\"\"\n",
        "\n",
        "df = pd.read_csv(StringIO(csv_inline))"
      ],
      "metadata": {
        "id": "g0-2ZU6YxZ2Z"
      },
      "execution_count": 2,
      "outputs": []
    },
    {
      "cell_type": "code",
      "execution_count": 5,
      "metadata": {
        "colab": {
          "base_uri": "https://localhost:8080/",
          "height": 1000
        },
        "id": "ATi-JQ0Owhh4",
        "outputId": "7b0aa651-9369-484d-d8b2-5d22844fc65b"
      },
      "outputs": [
        {
          "output_type": "stream",
          "name": "stderr",
          "text": [
            "[nltk_data] Downloading package punkt_tab to /root/nltk_data...\n",
            "[nltk_data]   Unzipping tokenizers/punkt_tab.zip.\n",
            "[nltk_data] Downloading package punkt to /root/nltk_data...\n",
            "[nltk_data]   Package punkt is already up-to-date!\n",
            "[nltk_data] Downloading package stopwords to /root/nltk_data...\n",
            "[nltk_data]   Package stopwords is already up-to-date!\n",
            "/usr/local/lib/python3.11/dist-packages/keras/src/layers/core/embedding.py:90: UserWarning: Argument `input_length` is deprecated. Just remove it.\n",
            "  warnings.warn(\n"
          ]
        },
        {
          "output_type": "stream",
          "name": "stdout",
          "text": [
            "  Sentiment                   Headline\n",
            "0  positive  Titan posts record profit\n",
            "1   neutral           Markets end flat\n",
            "2  negative   XYZ Corp misses guidance\n",
            "Sentiment\n",
            "positive    1\n",
            "neutral     1\n",
            "negative    1\n",
            "Name: count, dtype: int64\n",
            "Epoch 1/10\n",
            "\u001b[1m1/1\u001b[0m \u001b[32m━━━━━━━━━━━━━━━━━━━━\u001b[0m\u001b[37m\u001b[0m \u001b[1m2s\u001b[0m 2s/step - accuracy: 0.0000e+00 - loss: 1.1115 - val_accuracy: 1.0000 - val_loss: 1.0828\n",
            "Epoch 2/10\n",
            "\u001b[1m1/1\u001b[0m \u001b[32m━━━━━━━━━━━━━━━━━━━━\u001b[0m\u001b[37m\u001b[0m \u001b[1m0s\u001b[0m 98ms/step - accuracy: 1.0000 - loss: 0.9955 - val_accuracy: 0.0000e+00 - val_loss: 1.0915\n",
            "Epoch 3/10\n",
            "\u001b[1m1/1\u001b[0m \u001b[32m━━━━━━━━━━━━━━━━━━━━\u001b[0m\u001b[37m\u001b[0m \u001b[1m0s\u001b[0m 92ms/step - accuracy: 1.0000 - loss: 0.9928 - val_accuracy: 0.0000e+00 - val_loss: 1.1088\n",
            "Epoch 4/10\n",
            "\u001b[1m1/1\u001b[0m \u001b[32m━━━━━━━━━━━━━━━━━━━━\u001b[0m\u001b[37m\u001b[0m \u001b[1m0s\u001b[0m 140ms/step - accuracy: 1.0000 - loss: 0.9670 - val_accuracy: 0.0000e+00 - val_loss: 1.1265\n",
            "Epoch 5/10\n",
            "\u001b[1m1/1\u001b[0m \u001b[32m━━━━━━━━━━━━━━━━━━━━\u001b[0m\u001b[37m\u001b[0m \u001b[1m0s\u001b[0m 135ms/step - accuracy: 1.0000 - loss: 0.8615 - val_accuracy: 0.0000e+00 - val_loss: 1.1465\n",
            "Epoch 6/10\n",
            "\u001b[1m1/1\u001b[0m \u001b[32m━━━━━━━━━━━━━━━━━━━━\u001b[0m\u001b[37m\u001b[0m \u001b[1m0s\u001b[0m 91ms/step - accuracy: 1.0000 - loss: 0.8377 - val_accuracy: 0.0000e+00 - val_loss: 1.1682\n",
            "Epoch 7/10\n",
            "\u001b[1m1/1\u001b[0m \u001b[32m━━━━━━━━━━━━━━━━━━━━\u001b[0m\u001b[37m\u001b[0m \u001b[1m0s\u001b[0m 136ms/step - accuracy: 1.0000 - loss: 0.6979 - val_accuracy: 0.0000e+00 - val_loss: 1.1943\n",
            "Epoch 8/10\n",
            "\u001b[1m1/1\u001b[0m \u001b[32m━━━━━━━━━━━━━━━━━━━━\u001b[0m\u001b[37m\u001b[0m \u001b[1m0s\u001b[0m 140ms/step - accuracy: 1.0000 - loss: 0.8267 - val_accuracy: 0.0000e+00 - val_loss: 1.2233\n",
            "Epoch 9/10\n",
            "\u001b[1m1/1\u001b[0m \u001b[32m━━━━━━━━━━━━━━━━━━━━\u001b[0m\u001b[37m\u001b[0m \u001b[1m0s\u001b[0m 142ms/step - accuracy: 1.0000 - loss: 0.7551 - val_accuracy: 0.0000e+00 - val_loss: 1.2558\n",
            "Epoch 10/10\n",
            "\u001b[1m1/1\u001b[0m \u001b[32m━━━━━━━━━━━━━━━━━━━━\u001b[0m\u001b[37m\u001b[0m \u001b[1m0s\u001b[0m 139ms/step - accuracy: 1.0000 - loss: 0.6600 - val_accuracy: 0.0000e+00 - val_loss: 1.2917\n"
          ]
        },
        {
          "output_type": "stream",
          "name": "stderr",
          "text": [
            "WARNING:absl:You are saving your model as an HDF5 file via `model.save()` or `keras.saving.save_model(model)`. This file format is considered legacy. We recommend using instead the native Keras format, e.g. `model.save('my_model.keras')` or `keras.saving.save_model(model, 'my_model.keras')`. \n"
          ]
        },
        {
          "output_type": "stream",
          "name": "stdout",
          "text": [
            "Test accuracy: 0.0000\n",
            "\u001b[1m1/1\u001b[0m \u001b[32m━━━━━━━━━━━━━━━━━━━━\u001b[0m\u001b[37m\u001b[0m \u001b[1m0s\u001b[0m 95ms/step\n",
            "Sample headline: indian stock market surges new economic reforms announced\n",
            "Predicted sentiment: neutral\n"
          ]
        },
        {
          "output_type": "display_data",
          "data": {
            "text/plain": [
              "<Figure size 640x480 with 1 Axes>"
            ],
            "image/png": "[encoded data removed]"
          },
          "metadata": {}
        }
      ],
      "source": [
        "# Import necessary libraries\n",
        "import pandas as pd\n",
        "import numpy as np\n",
        "from sklearn.model_selection import train_test_split\n",
        "from sklearn.preprocessing import LabelEncoder\n",
        "from tensorflow.keras.preprocessing.text import Tokenizer\n",
        "from tensorflow.keras.preprocessing.sequence import pad_sequences\n",
        "from tensorflow.keras.models import Sequential\n",
        "from tensorflow.keras.layers import Embedding, Conv1D, GlobalMaxPooling1D, Dense, Dropout\n",
        "from tensorflow.keras.utils import to_categorical\n",
        "import nltk\n",
        "from nltk.tokenize import word_tokenize\n",
        "from nltk.corpus import stopwords\n",
        "import requests\n",
        "import zipfile\n",
        "import io\n",
        "\n",
        "# Download NLTK resources\n",
        "nltk.download('punkt_tab')\n",
        "nltk.download('punkt')\n",
        "nltk.download('stopwords')\n",
        "stop_words = set(stopwords.words('english'))\n",
        "\n",
        "####### Data download ####\n",
        "# Download Kaggle dataset (Sentiment Analysis for Financial News)\n",
        "# Note: You need to set up Kaggle API or manually download the dataset\n",
        "# Instructions: Get dataset from https://www.kaggle.com/ankurzing/sentiment-analysis-for-financial-news\n",
        "# Place 'all-data.csv' in the same directory as this script\n",
        "# Alternatively, use Kaggle API (uncomment below if using API)\n",
        "\"\"\"\n",
        "!pip install kaggle\n",
        "!kaggle datasets download -d ankurzing/sentiment-analysis-for-financial-news\n",
        "with zipfile.ZipFile('sentiment-analysis-for-financial-news.zip', 'r') as zip_ref:\n",
        "    zip_ref.extractall('.')\n",
        "\"\"\"\n",
        "# Load the dataset\n",
        "#df = pd.read_csv('all-data.csv', encoding='ISO-8859-1', names=['Sentiment', 'Headline'])\n",
        "\n",
        "# Basic data inspection\n",
        "print(df.head())\n",
        "print(df['Sentiment'].value_counts())\n",
        "\n",
        "####### Data preprocessing ####\n",
        "# Clean text: remove stopwords and tokenize\n",
        "def preprocess_text(text):\n",
        "    tokens = word_tokenize(text.lower())\n",
        "    tokens = [t for t in tokens if t.isalpha() and t not in stop_words]\n",
        "    return ' '.join(tokens)\n",
        "\n",
        "# Apply preprocessing\n",
        "df['Headline'] = df['Headline'].apply(preprocess_text)\n",
        "\n",
        "# Encode labels (positive, negative, neutral)\n",
        "label_encoder = LabelEncoder()\n",
        "df['Sentiment'] = label_encoder.fit_transform(df['Sentiment'])\n",
        "num_classes = len(label_encoder.classes_)\n",
        "\n",
        "# Tokenize and pad sequences\n",
        "max_words = 5000  # Maximum vocabulary size\n",
        "max_len = 50      # Maximum sequence length\n",
        "tokenizer = Tokenizer(num_words=max_words)\n",
        "tokenizer.fit_on_texts(df['Headline'])\n",
        "sequences = tokenizer.texts_to_sequences(df['Headline'])\n",
        "padded_sequences = pad_sequences(sequences, maxlen=max_len, padding='post')\n",
        "\n",
        "# Split data into train and test sets\n",
        "X_train, X_test, y_train, y_test = train_test_split(padded_sequences, df['Sentiment'], test_size=0.2, random_state=42)\n",
        "y_train = to_categorical(y_train, num_classes)\n",
        "y_test = to_categorical(y_test, num_classes)\n",
        "\n",
        "####### Create NN and train ####\n",
        "# Build a simple CNN model\n",
        "model = Sequential([\n",
        "    Embedding(max_words, 100, input_length=max_len),\n",
        "    Conv1D(128, 5, activation='relu'),\n",
        "    GlobalMaxPooling1D(),\n",
        "    Dense(64, activation='relu'),\n",
        "    Dropout(0.5),\n",
        "    Dense(num_classes, activation='softmax')\n",
        "])\n",
        "\n",
        "# Compile the model\n",
        "model.compile(optimizer='adam', loss='categorical_crossentropy', metrics=['accuracy'])\n",
        "\n",
        "# Train the model\n",
        "history = model.fit(X_train, y_train, epochs=10, batch_size=32, validation_split=0.2, verbose=1)\n",
        "\n",
        "# Save the model\n",
        "model.save('sentiment_cnn_model.h5')\n",
        "\n",
        "####### Analysis and prediction ####\n",
        "# Evaluate the model\n",
        "loss, accuracy = model.evaluate(X_test, y_test, verbose=0)\n",
        "print(f'Test accuracy: {accuracy:.4f}')\n",
        "\n",
        "# Predict on a sample headline\n",
        "sample_headline = \"Indian stock market surges as new economic reforms announced\"\n",
        "sample_headline = preprocess_text(sample_headline)\n",
        "sample_sequence = tokenizer.texts_to_sequences([sample_headline])\n",
        "sample_padded = pad_sequences(sample_sequence, maxlen=max_len, padding='post')\n",
        "prediction = model.predict(sample_padded)\n",
        "predicted_label = label_encoder.inverse_transform([np.argmax(prediction)])[0]\n",
        "print(f'Sample headline: {sample_headline}')\n",
        "print(f'Predicted sentiment: {predicted_label}')\n",
        "\n",
        "# Optional: Plot training history (requires matplotlib)\n",
        "import matplotlib.pyplot as plt\n",
        "plt.plot(history.history['accuracy'], label='Train Accuracy')\n",
        "plt.plot(history.history['val_accuracy'], label='Validation Accuracy')\n",
        "plt.title('Model Accuracy')\n",
        "plt.xlabel('Epoch')\n",
        "plt.ylabel('Accuracy')\n",
        "plt.legend()\n",
        "plt.show()"
      ]
    }
  ]
}