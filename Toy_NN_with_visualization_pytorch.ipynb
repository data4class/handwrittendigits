{
  "nbformat": 4,
  "nbformat_minor": 0,
  "metadata": {
    "colab": {
      "provenance": [],
      "authorship_tag": "ABX9TyO+8Gb8bf3JkIo0W5IYOSr8",
      "include_colab_link": true
    },
    "kernelspec": {
      "name": "python3",
      "display_name": "Python 3"
    },
    "language_info": {
      "name": "python"
    }
  },
  "cells": [
    {
      "cell_type": "markdown",
      "metadata": {
        "id": "view-in-github",
        "colab_type": "text"
      },
      "source": [
        "<a href=\"https://colab.research.google.com/github/data4class/handwrittendigits/blob/main/Toy_NN_with_visualization_pytorch.ipynb\" target=\"_parent\"><img src=\"https://colab.research.google.com/assets/colab-badge.svg\" alt=\"Open In Colab\"/></a>"
      ]
    },
    {
      "cell_type": "code",
      "execution_count": null,
      "metadata": {
        "id": "ys287l8HSzSb"
      },
      "outputs": [],
      "source": [
        "\"\"\"\n",
        "\n",
        "Minimal 3×2×1 fully-connected network in PyTorch\n",
        "\n",
        "\"\"\"\n",
        "\n",
        "import torch\n",
        "import torch.nn as nn\n",
        "import pandas as pd\n",
        "\n",
        "# 1. Hyper-parameters\n",
        "LR   = 0.5         # big learning rate so weights visibly move\n",
        "EPOCHS = 200       # enough to converge on toy data\n",
        "\n",
        "# 2. Load toy dataset ---------------------------------------------------------\n",
        "df = pd.read_csv('data.csv')\n",
        "X = torch.tensor(df[['x1','x2']].values, dtype=torch.float32)\n",
        "y = torch.tensor(df['y'].values, dtype=torch.float32).view(-1,1)\n",
        "\n",
        "# 3. Define the network architecture ------------------------------------------\n",
        "class TinyNet(nn.Module):\n",
        "    def __init__(self):\n",
        "        super().__init__()\n",
        "        # layer sizes: 2 → 2 → 1\n",
        "        self.hidden = nn.Linear(2, 2)   # W1 shape (2×2), b1 (2)\n",
        "        self.out    = nn.Linear(2, 1)   # W2 shape (1×2), b2 (1)\n",
        "    def forward(self, x):\n",
        "        x = torch.sigmoid(self.hidden(x))   # h = σ(W1·x + b1)\n",
        "        x = torch.sigmoid(self.out(x))      # ŷ = σ(W2·h + b2)\n",
        "        return x\n",
        "net = TinyNet()\n",
        "\n",
        "# 4. Loss and optimizer -------------------------------------------------------\n",
        "criterion  = nn.MSELoss()\n",
        "optimizer  = torch.optim.SGD(net.parameters(), lr=LR)\n",
        "\n",
        "# 5. Training loop ------------------------------------------------------------\n",
        "loss_log   = []          # for the visualizer\n",
        "W1_log, W2_log = [], []  # store weights every epoch\n",
        "\n",
        "for epoch in range(EPOCHS):\n",
        "    # forward\n",
        "    y_hat = net(X)\n",
        "    loss  = criterion(y_hat, y)\n",
        "\n",
        "    # backward + update\n",
        "    optimizer.zero_grad()\n",
        "    loss.backward()\n",
        "    optimizer.step()\n",
        "\n",
        "    # bookkeeping\n",
        "    loss_log.append(loss.item())\n",
        "    with torch.no_grad():\n",
        "        W1_log.append(net.hidden.weight.clone().detach().numpy())\n",
        "        W2_log.append(net.out.weight.clone().detach().numpy())\n",
        "\n",
        "    if epoch % 20 == 0:\n",
        "        print(f'epoch {epoch:3d}  loss {loss.item():.4f}')\n"
      ]
    }
  ]
}